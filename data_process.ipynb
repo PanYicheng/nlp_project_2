{
 "cells": [
  {
   "cell_type": "code",
   "execution_count": 1,
   "metadata": {
    "ExecuteTime": {
     "end_time": "2019-12-26T05:30:47.094504Z",
     "start_time": "2019-12-26T05:30:47.089371Z"
    }
   },
   "outputs": [],
   "source": [
    "from collections import defaultdict\n",
    "import os\n",
    "import numpy as np\n",
    "import re\n",
    "\n",
    "import matplotlib.pyplot as plt\n",
    "np.random.seed(42)"
   ]
  },
  {
   "cell_type": "markdown",
   "metadata": {},
   "source": [
    "# 预处理源数据\n",
    "## rocstory_data\n",
    "源数据是从助教处拿来的数据，每行格式为 ```title <EOT> storyline <EOL> </s> s1 ... </s> s5```\n",
    "\n",
    "这里将其中的故事线去除，并调整```</s>```的位置，生成的格式为 ```title <EOT> s1 </s> ... s5 </s>```"
   ]
  },
  {
   "cell_type": "code",
   "execution_count": 3,
   "metadata": {
    "ExecuteTime": {
     "end_time": "2019-12-18T02:57:02.512343Z",
     "start_time": "2019-12-18T02:57:02.130901Z"
    },
    "code_folding": []
   },
   "outputs": [],
   "source": [
    "data_dir = 'rocstory_data'\n",
    "out_dir = 'rocstory_data/raw_data/'\n",
    "filenames = ['train.txt', 'valid.txt', 'test.txt']\n",
    "for filename in filenames:\n",
    "    with open(os.path.join(data_dir, filename), 'rt') as f:\n",
    "        lines = f.readlines()\n",
    "    new_lines=[]\n",
    "    for line in lines:\n",
    "        title = line[:line.find('<EOT>')+5].strip() + ' </s>'\n",
    "        story = line[line.find('<EOL>')+11:].strip() + ' </s>'\n",
    "        new_lines.append(title+' '+story)\n",
    "    outfile = os.path.join('data', out_dir, filename)\n",
    "    if not os.path.exists(os.path.dirname(outfile)):\n",
    "        os.makedirs(os.path.dirname(outfile))\n",
    "    with open(outfile, 'wt') as f:\n",
    "        for i, line in enumerate(new_lines):\n",
    "            try:\n",
    "                f.write(line+'\\n')\n",
    "            except:\n",
    "                print(i, line)"
   ]
  },
  {
   "cell_type": "markdown",
   "metadata": {},
   "source": [
    "## rocstoryline_data\n",
    "包含助教提供的storyline的数据，格式修正为```title <EOT> l1 ... l5 <EOL> s1 </s> ... s5 </s>```"
   ]
  },
  {
   "cell_type": "code",
   "execution_count": 55,
   "metadata": {
    "ExecuteTime": {
     "end_time": "2019-12-18T04:08:30.234912Z",
     "start_time": "2019-12-18T04:08:29.724730Z"
    }
   },
   "outputs": [],
   "source": [
    "data_dir = 'rocstory_data'\n",
    "out_dir = 'rocstoryline_data/raw_data/'\n",
    "filenames = ['train.txt', 'valid.txt', 'test.txt']\n",
    "for filename in filenames:\n",
    "    with open(os.path.join(data_dir, filename), 'rt') as f:\n",
    "        lines = f.readlines()\n",
    "    new_lines=[]\n",
    "    for line in lines:\n",
    "        title = line[:line.find('<EOT>')+5].strip() + ' </s>'\n",
    "        storyline = line[line.find('<EOT>')+6:line.find('<EOL>')+5] + ' </s>'\n",
    "        story = line[line.find('<EOL>')+11:].strip() + ' </s>'\n",
    "        new_lines.append(title+' '+storyline+' '+story)\n",
    "    outfile = os.path.join('data', out_dir, filename)\n",
    "    # make the parent directory if needed\n",
    "    if not os.path.exists(os.path.dirname(outfile)):\n",
    "        os.makedirs(os.path.dirname(outfile))\n",
    "    with open(outfile, 'wt') as f:\n",
    "        for i, line in enumerate(new_lines):\n",
    "            try:\n",
    "                f.write(line+'\\n')\n",
    "            except:\n",
    "                print(i, line)"
   ]
  },
  {
   "cell_type": "markdown",
   "metadata": {},
   "source": [
    "## new roc data"
   ]
  },
  {
   "cell_type": "code",
   "execution_count": 4,
   "metadata": {
    "ExecuteTime": {
     "end_time": "2019-12-20T09:01:05.509530Z",
     "start_time": "2019-12-20T09:01:04.903910Z"
    }
   },
   "outputs": [],
   "source": [
    "data_dir = 'new_roc_data/title_storyline_story/'\n",
    "out_dir = 'new_roc_data/raw_data/'\n",
    "filenames = ['train.txt', 'valid.txt', 'test.txt']\n",
    "for filename in filenames:\n",
    "    with open(os.path.join(data_dir, filename), 'rt') as f:\n",
    "        lines = f.readlines()\n",
    "    new_lines=[]\n",
    "    for line in lines:\n",
    "        title = line[:line.find('<EOT>')+5].strip() + ' </s>'\n",
    "        storyline = ' '.join(line[line.find('<EOT>')+8:line.find('<EOL>')+5].split(' # '))\\\n",
    "            + ' </s>'\n",
    "        story = line[line.find('<EOL>')+11:-].strip() + ' </s>'\n",
    "        new_lines.append(title+' '+storyline+' '+story)\n",
    "    outfile = os.path.join('data', out_dir, filename)\n",
    "    # make the parent directory if needed\n",
    "    if not os.path.exists(os.path.dirname(outfile)):\n",
    "        os.makedirs(os.path.dirname(outfile))\n",
    "    with open(outfile, 'wt') as f:\n",
    "        for i, line in enumerate(new_lines):\n",
    "            try:\n",
    "                f.write(line+'\\n')\n",
    "            except:\n",
    "                print(i, line)"
   ]
  },
  {
   "cell_type": "markdown",
   "metadata": {},
   "source": [
    "## new_roc_data_v2"
   ]
  },
  {
   "cell_type": "code",
   "execution_count": 11,
   "metadata": {
    "ExecuteTime": {
     "end_time": "2019-12-21T08:22:11.269782Z",
     "start_time": "2019-12-21T08:22:10.629308Z"
    }
   },
   "outputs": [],
   "source": [
    "data_dir = 'new_roc_data_v2/title_storyline_story/'\n",
    "out_dir = 'new_roc_data_v2/raw_data/'\n",
    "filenames = ['train.txt', 'valid.txt', 'test.txt']\n",
    "for filename in filenames:\n",
    "    with open(os.path.join(data_dir, filename), 'rt') as f:\n",
    "        lines = f.readlines()\n",
    "    new_lines=[]\n",
    "    for line in lines:\n",
    "        title = line[:line.find('<EOT>')+5].strip() + ' </s>'\n",
    "        storyline = ' '.join(line[line.find('<EOT>')+8:line.find('<EOL>')+5].split(' # '))\\\n",
    "            + ' </s>'\n",
    "        story = line[line.find('<EOL>')+11:-6].strip() + ' </s>'\n",
    "        new_lines.append(title+' '+storyline+' '+story)\n",
    "    outfile = os.path.join('data', out_dir, filename)\n",
    "    # make the parent directory if needed\n",
    "    if not os.path.exists(os.path.dirname(outfile)):\n",
    "        os.makedirs(os.path.dirname(outfile))\n",
    "    with open(outfile, 'wt') as f:\n",
    "        for i, line in enumerate(new_lines):\n",
    "            try:\n",
    "                f.write(line+'\\n')\n",
    "            except:\n",
    "                print(i, line)"
   ]
  },
  {
   "cell_type": "markdown",
   "metadata": {},
   "source": [
    "## new_roc_data_v3"
   ]
  },
  {
   "cell_type": "code",
   "execution_count": 17,
   "metadata": {
    "ExecuteTime": {
     "end_time": "2019-12-21T10:57:06.055830Z",
     "start_time": "2019-12-21T10:57:05.336455Z"
    }
   },
   "outputs": [],
   "source": [
    "data_dir = 'new_roc_data_v3/title_storyline_story/'\n",
    "out_dir = 'new_roc_data_v3/raw_data/'\n",
    "filenames = ['train.txt', 'valid.txt', 'test.txt']\n",
    "for filename in filenames:\n",
    "    with open(os.path.join(data_dir, filename), 'rt') as f:\n",
    "        lines = f.readlines()\n",
    "    new_lines=[]\n",
    "    for line in lines:\n",
    "        title = line[:line.find('<EOT>')+5].strip() + ' </s>'\n",
    "        storyline = ' '.join(line[line.find('<EOT>')+11:line.find('<EOL>')+5].split(' </l> '))\\\n",
    "            + ' </s>'\n",
    "        story = line[line.find('<EOL>')+11:-7].strip() + ' </s>'\n",
    "        new_lines.append(title+' '+storyline+' '+story)\n",
    "    outfile = os.path.join('data', out_dir, filename)\n",
    "    # make the parent directory if needed\n",
    "    if not os.path.exists(os.path.dirname(outfile)):\n",
    "        os.makedirs(os.path.dirname(outfile))\n",
    "    with open(outfile, 'wt') as f:\n",
    "        for i, line in enumerate(new_lines):\n",
    "            try:\n",
    "                f.write(line+'\\n')\n",
    "            except:\n",
    "                print(i, line)"
   ]
  },
  {
   "cell_type": "markdown",
   "metadata": {},
   "source": [
    "# 合并数据\n",
    "将train,valid,test合并到一起,生成all.txt，用于生成统一的dictionary"
   ]
  },
  {
   "cell_type": "code",
   "execution_count": 18,
   "metadata": {
    "ExecuteTime": {
     "end_time": "2019-12-21T10:57:34.205512Z",
     "start_time": "2019-12-21T10:57:33.994852Z"
    }
   },
   "outputs": [],
   "source": [
    "def merge_all(data_dir):\n",
    "    filenames = ['train.txt', 'valid.txt', 'test.txt']\n",
    "    new_lines = []\n",
    "    for filename in filenames:\n",
    "        with open(os.path.join(data_dir, filename), 'rt') as f:\n",
    "            lines = f.readlines()\n",
    "        new_lines.extend(lines)\n",
    "    outfile = os.path.join(data_dir, 'all.txt')\n",
    "    with open(outfile, 'wt') as f:\n",
    "        for i, line in enumerate(new_lines):\n",
    "            try:\n",
    "                f.write(line)\n",
    "            except:\n",
    "                print(i, line)\n",
    "                \n",
    "# merge_all('data/rocstoryline_data/raw_data/')\n",
    "# merge_all('data/rocstory_data/raw_data/')\n",
    "# merge_all('data/new_roc_data/raw_data/')\n",
    "# merge_all('data/new_roc_data_v2/raw_data/')\n",
    "merge_all('data/new_roc_data_v3/raw_data/')"
   ]
  },
  {
   "cell_type": "markdown",
   "metadata": {},
   "source": [
    "# 分析数据"
   ]
  },
  {
   "cell_type": "code",
   "execution_count": 19,
   "metadata": {
    "ExecuteTime": {
     "end_time": "2019-12-21T10:57:59.226702Z",
     "start_time": "2019-12-21T10:57:56.534248Z"
    }
   },
   "outputs": [],
   "source": [
    "# select the data directory to analyze\n",
    "data_dirs = ['data/rocstoryline_data/raw_data/', \n",
    "             'data/rocstory_data/raw_data/',\n",
    "             'data/new_roc_data/raw_data/',\n",
    "             'data/new_roc_data_v2/raw_data/',\n",
    "             'data/new_roc_data_v3/raw_data/']\n",
    "\n",
    "def cal_word_stat(data_dir):\n",
    "    filenames = ['train.txt', 'valid.txt', 'test.txt']\n",
    "    dataset = []\n",
    "    for filename in filenames:\n",
    "        with open(os.path.join(data_dir, filename), 'rt') as f:\n",
    "            lines = f.readlines()\n",
    "        dataset.append(lines)\n",
    "\n",
    "    word_count = []\n",
    "    word_freq = defaultdict(int)\n",
    "    for data in dataset:\n",
    "        for line in data:\n",
    "            word_count.append(len(line.strip().split(' ')))\n",
    "            for word in line.strip().split(' '):\n",
    "                word_freq[word] = word_freq[word] +1\n",
    "    return dataset, word_count, word_freq\n",
    "\n",
    "# dataset, word_count, word_freq = cal_word_stat(data_dirs[0])\n",
    "# dataset_1, word_count_1, word_freq_1 = cal_word_stat(data_dirs[1])\n",
    "dataset, word_count, word_freq = cal_word_stat(data_dirs[4])"
   ]
  },
  {
   "cell_type": "code",
   "execution_count": null,
   "metadata": {},
   "outputs": [],
   "source": []
  },
  {
   "cell_type": "code",
   "execution_count": 49,
   "metadata": {
    "ExecuteTime": {
     "end_time": "2019-12-18T04:06:20.190753Z",
     "start_time": "2019-12-18T04:06:20.181884Z"
    }
   },
   "outputs": [
    {
     "name": "stdout",
     "output_type": "stream",
     "text": [
      "37844\n",
      "37891\n"
     ]
    }
   ],
   "source": [
    "words_1 = set(word_freq_1.keys())\n",
    "print(len(words_1))\n",
    "words = set(word_freq.keys())\n",
    "print(len(words))"
   ]
  },
  {
   "cell_type": "code",
   "execution_count": 50,
   "metadata": {
    "ExecuteTime": {
     "end_time": "2019-12-18T04:06:21.465910Z",
     "start_time": "2019-12-18T04:06:21.458276Z"
    }
   },
   "outputs": [
    {
     "data": {
      "text/plain": [
       "47"
      ]
     },
     "execution_count": 50,
     "metadata": {},
     "output_type": "execute_result"
    }
   ],
   "source": [
    "37891-37844"
   ]
  },
  {
   "cell_type": "markdown",
   "metadata": {},
   "source": [
    "出现了一些不应该出现的词，这些词是由RAKE错误提取出来的，它们都是作为连字符的组成部分。\n",
    "\n",
    "例如anglo-indian， anglo-saxon"
   ]
  },
  {
   "cell_type": "code",
   "execution_count": 51,
   "metadata": {
    "ExecuteTime": {
     "end_time": "2019-12-18T04:06:22.806584Z",
     "start_time": "2019-12-18T04:06:22.793572Z"
    }
   },
   "outputs": [
    {
     "data": {
      "text/plain": [
       "{'00am',\n",
       " '00pm',\n",
       " '15pm',\n",
       " '30am',\n",
       " '30pm',\n",
       " '<EOL></s>',\n",
       " 'aholic',\n",
       " 'anglo',\n",
       " 'betterment',\n",
       " 'blooded',\n",
       " 'brainer',\n",
       " 'chicke',\n",
       " 'couldn',\n",
       " 'cul',\n",
       " 'depressant',\n",
       " 'dic',\n",
       " 'ditcher',\n",
       " 'doh',\n",
       " 'ecologically',\n",
       " 'gatherers',\n",
       " 'grandfatherly',\n",
       " 'ing',\n",
       " 'innocuous',\n",
       " 'inter',\n",
       " 'jell',\n",
       " 'laz',\n",
       " 'loc',\n",
       " 'malley',\n",
       " 'mores',\n",
       " 'nevermore',\n",
       " 'olden',\n",
       " 'omni',\n",
       " 'panner',\n",
       " 'perma',\n",
       " 'pol',\n",
       " 'poli',\n",
       " 'rayed',\n",
       " 'routed',\n",
       " 'savy',\n",
       " 'signer',\n",
       " 'thon',\n",
       " 'throb',\n",
       " 'tottering',\n",
       " 'trans',\n",
       " 'watering\\\\',\n",
       " 'westernized',\n",
       " 'yoing'}"
      ]
     },
     "execution_count": 51,
     "metadata": {},
     "output_type": "execute_result"
    }
   ],
   "source": [
    "words - words_1"
   ]
  },
  {
   "cell_type": "markdown",
   "metadata": {},
   "source": [
    "## 故事长度"
   ]
  },
  {
   "cell_type": "code",
   "execution_count": 20,
   "metadata": {
    "ExecuteTime": {
     "end_time": "2019-12-21T10:58:03.070415Z",
     "start_time": "2019-12-21T10:58:02.950035Z"
    },
    "scrolled": false
   },
   "outputs": [
    {
     "name": "stdout",
     "output_type": "stream",
     "text": [
      "Mean length:70.90\n",
      "Max length :106.00\n",
      "Min length :43.00\n",
      "Max length story @   28191:\n",
      " my day at school <EOT> </s> teacher called beside name new dress twenty bill great day <EOL> </s> first , when i got into my class my teacher called me over . </s> she handed me a paper with a huge f on the top , beside my name . </s> then , i got to lunch , and i spilt my milk all over my new dress . </s> i went to the off the milk and i found a twenty dollar bill . </s> when i walked out i had a big smile , and i had a great day after that . </s>\n",
      "\n",
      "Min length story @   57118:\n",
      " movie <EOT> </s> movie started people talking man angry demanded silence crowd quiet <EOL> </s> the movie started . </s> people were still talking . </s> the man got angry . </s> he demanded silence . </s> the crowd got quiet . </s>\n",
      "\n"
     ]
    }
   ],
   "source": [
    "print('Mean length:{:.2f}\\n'\n",
    "      'Max length :{:.2f}\\n'\n",
    "      'Min length :{:.2f}'.format(np.mean(word_count), np.max(word_count), np.min(word_count)))\n",
    "\n",
    "max_length_story_ind = np.argmax(word_count)\n",
    "min_length_story_ind = np.argmin(word_count)\n",
    "\n",
    "def get_story_by_ind(ind):\n",
    "    if ind < len(dataset[0]):\n",
    "        return dataset[0][ind]\n",
    "    elif ind < len(dataset[0])+len(dataset[1]):\n",
    "        return dataset[1][ind-len(dataset[0])]\n",
    "    elif ind < len(dataset[0])+len(dataset[1])+len(dataset[2]):\n",
    "        return dataset[2][ind-(len(dataset[0])+len(dataset[1]))]\n",
    "    else:\n",
    "        return ''\n",
    "\n",
    "print('Max length story @{:8d}:\\n'.format(max_length_story_ind), get_story_by_ind(max_length_story_ind))\n",
    "print('Min length story @{:8d}:\\n'.format(min_length_story_ind), get_story_by_ind(min_length_story_ind))"
   ]
  },
  {
   "cell_type": "markdown",
   "metadata": {},
   "source": [
    "## 词频率分布\n",
    "\n",
    "根据如下的词频率分布，可以考虑Adaptive Softmax的分区设为[0, 4000, 20000]"
   ]
  },
  {
   "cell_type": "code",
   "execution_count": 9,
   "metadata": {
    "ExecuteTime": {
     "end_time": "2019-12-21T03:26:32.987611Z",
     "start_time": "2019-12-21T03:26:31.772963Z"
    },
    "scrolled": true
   },
   "outputs": [
    {
     "name": "stdout",
     "output_type": "stream",
     "text": [
      "Total words: 37816\n"
     ]
    },
    {
     "data": {
      "text/plain": [
       "[<matplotlib.lines.Line2D at 0x7fcb31a86be0>]"
      ]
     },
     "execution_count": 9,
     "metadata": {},
     "output_type": "execute_result"
    },
    {
     "data": {
      "image/png": "[encoded data removed]",
      "text/plain": [
       "<Figure size 432x288 with 1 Axes>"
      ]
     },
     "metadata": {
      "needs_background": "light"
     },
     "output_type": "display_data"
    }
   ],
   "source": [
    "ordered_freq = sorted([(freq, word) for word, freq in word_freq.items()], reverse=True)\n",
    "\n",
    "print('Total words: {}'.format(len(ordered_freq)))\n",
    "\n",
    "plt.yscale('log')\n",
    "plt.plot(np.arange(len(ordered_freq)), [_[0] for _ in ordered_freq])\n",
    "# plt.xlim(0, 10000)\n",
    "\n"
   ]
  },
  {
   "cell_type": "markdown",
   "metadata": {},
   "source": [
    "# 分析测试集输出"
   ]
  },
  {
   "cell_type": "code",
   "execution_count": 16,
   "metadata": {
    "ExecuteTime": {
     "end_time": "2019-12-26T05:57:47.965044Z",
     "start_time": "2019-12-26T05:57:47.794136Z"
    }
   },
   "outputs": [],
   "source": [
    "from nltk.translate.bleu_score import sentence_bleu\n",
    "# reference_path = './data/rocstoryline_data/test.txt'\n",
    "# candidate_path = './data/rocstoryline_data/weight_data/project1_model/test.tsv.out'\n",
    "# reference_path = './data/new_roc_data/weight_data/project1_model_new_roc_data/test.tsv'\n",
    "# candidate_path = './data/new_roc_data/weight_data/project1_model_new_roc_data/test.tsv.out'\n",
    "# reference_path = './data/new_roc_data_v3/weight_data/p1lm_new_roc_data_v3/test.tsv'\n",
    "# candidate_path = './data/new_roc_data_v3/weight_data/p1lm_new_roc_data_v3/test-generatestoryline.norankloss.out'\n",
    "reference_path = './data/new_roc_data_v3/weight_data/p1lm_new_roc_data_v3/test.tsv'\n",
    "candidate_path = './data/new_roc_data_v3/weight_data/p1lm_new_roc_data_v3/test-withtruestoryline.norankloss.out'\n",
    "with open(candidate_path, 'rt') as f:\n",
    "        candidate = f.readlines()\n",
    "with open(reference_path, 'rt') as f:\n",
    "    reference = f.readlines()\n",
    "for i, ref in enumerate(reference):\n",
    "    reference[i] = ref.split('\\t')[1].strip().split(' ')\n",
    "for i, cand in enumerate(candidate):\n",
    "    candidate[i] = cand.split('\\t')[1][:-3].strip().split(' ')\n",
    "# reference = reference[:-1]"
   ]
  },
  {
   "cell_type": "code",
   "execution_count": 17,
   "metadata": {
    "ExecuteTime": {
     "end_time": "2019-12-26T05:57:49.862859Z",
     "start_time": "2019-12-26T05:57:49.856345Z"
    },
    "scrolled": false
   },
   "outputs": [
    {
     "name": "stdout",
     "output_type": "stream",
     "text": [
      "['the', 'orange', 'fell', 'from', 'the', 'tree', '.', '</s>', 'it', 'hit', 'a', 'girl', 'on', 'the', 'head', '.', '</s>', 'the', 'girl', 'looked', 'up', 'at', 'the', 'tree', '.', '</s>', 'another', 'orange', 'fell', 'from', 'the', 'tree', '.', '</s>', 'that', 'orange', 'broke', 'her', 'nose', '</s>'] ['gina', 'fell', 'into', 'the', 'tree', '.', '</s>', 'she', 'hit', 'her', 'head', 'on', 'the', 'ground', '.', '</s>', 'it', 'flew', 'out', '.', '</s>', 'she', 'tried', 'to', 'cry', '.', '</s>', 'she', 'got', 'a', 'bruise', '.', '</s>']\n",
      "7713 7713\n"
     ]
    }
   ],
   "source": [
    "print(reference[-1], candidate[-1])\n",
    "print(len(reference), len(candidate))"
   ]
  },
  {
   "cell_type": "code",
   "execution_count": 10,
   "metadata": {
    "ExecuteTime": {
     "end_time": "2019-12-26T05:37:28.023500Z",
     "start_time": "2019-12-26T05:37:27.787433Z"
    }
   },
   "outputs": [
    {
     "ename": "AttributeError",
     "evalue": "'list' object has no attribute 'strip'",
     "output_type": "error",
     "traceback": [
      "\u001b[0;31m---------------------------------------------------------------------------\u001b[0m",
      "\u001b[0;31mAttributeError\u001b[0m                            Traceback (most recent call last)",
      "\u001b[0;32m<ipython-input-10-bc9270e6abb7>\u001b[0m in \u001b[0;36m<module>\u001b[0;34m\u001b[0m\n\u001b[1;32m      1\u001b[0m \u001b[0msent_count\u001b[0m \u001b[0;34m=\u001b[0m \u001b[0;34m[\u001b[0m\u001b[0;34m]\u001b[0m\u001b[0;34m\u001b[0m\u001b[0;34m\u001b[0m\u001b[0m\n\u001b[1;32m      2\u001b[0m \u001b[0;32mfor\u001b[0m \u001b[0mi\u001b[0m\u001b[0;34m,\u001b[0m \u001b[0mcand\u001b[0m \u001b[0;32min\u001b[0m \u001b[0menumerate\u001b[0m\u001b[0;34m(\u001b[0m\u001b[0mcandidate\u001b[0m\u001b[0;34m)\u001b[0m\u001b[0;34m:\u001b[0m\u001b[0;34m\u001b[0m\u001b[0;34m\u001b[0m\u001b[0m\n\u001b[0;32m----> 3\u001b[0;31m     \u001b[0msent_count\u001b[0m\u001b[0;34m.\u001b[0m\u001b[0mappend\u001b[0m\u001b[0;34m(\u001b[0m\u001b[0mlen\u001b[0m\u001b[0;34m(\u001b[0m\u001b[0mcand\u001b[0m\u001b[0;34m.\u001b[0m\u001b[0mstrip\u001b[0m\u001b[0;34m(\u001b[0m\u001b[0;34m)\u001b[0m\u001b[0;34m.\u001b[0m\u001b[0msplit\u001b[0m\u001b[0;34m(\u001b[0m\u001b[0;34m'</s>'\u001b[0m\u001b[0;34m)\u001b[0m\u001b[0;34m)\u001b[0m\u001b[0;34m)\u001b[0m\u001b[0;34m\u001b[0m\u001b[0;34m\u001b[0m\u001b[0m\n\u001b[0m",
      "\u001b[0;31mAttributeError\u001b[0m: 'list' object has no attribute 'strip'"
     ]
    }
   ],
   "source": [
    "sent_count = []\n",
    "for i, cand in enumerate(candidate):\n",
    "    sent_count.append(len(cand.strip().split('</s>')))"
   ]
  },
  {
   "cell_type": "code",
   "execution_count": 38,
   "metadata": {
    "ExecuteTime": {
     "end_time": "2019-12-22T13:19:37.828483Z",
     "start_time": "2019-12-22T13:19:37.820579Z"
    }
   },
   "outputs": [
    {
     "data": {
      "text/plain": [
       "True"
      ]
     },
     "execution_count": 38,
     "metadata": {},
     "output_type": "execute_result"
    }
   ],
   "source": [
    "sent_count = np.array(sent_count)\n",
    "np.all(sent_count == 6)"
   ]
  },
  {
   "cell_type": "code",
   "execution_count": 18,
   "metadata": {
    "ExecuteTime": {
     "end_time": "2019-12-26T05:58:34.937455Z",
     "start_time": "2019-12-26T05:58:03.576249Z"
    }
   },
   "outputs": [
    {
     "name": "stderr",
     "output_type": "stream",
     "text": [
      "/opt/conda/lib/python3.6/site-packages/nltk/translate/bleu_score.py:523: UserWarning: \n",
      "The hypothesis contains 0 counts of 4-gram overlaps.\n",
      "Therefore the BLEU score evaluates to 0, independently of\n",
      "how many N-gram overlaps of lower order it contains.\n",
      "Consider using lower n-gram order or use SmoothingFunction()\n",
      "  warnings.warn(_msg)\n",
      "/opt/conda/lib/python3.6/site-packages/nltk/translate/bleu_score.py:523: UserWarning: \n",
      "The hypothesis contains 0 counts of 3-gram overlaps.\n",
      "Therefore the BLEU score evaluates to 0, independently of\n",
      "how many N-gram overlaps of lower order it contains.\n",
      "Consider using lower n-gram order or use SmoothingFunction()\n",
      "  warnings.warn(_msg)\n"
     ]
    },
    {
     "name": "stdout",
     "output_type": "stream",
     "text": [
      "[3085.3279426268596, 1339.0432530622343, 458.5849209321227, 153.3650353720322]\n"
     ]
    }
   ],
   "source": [
    "bleu = [0,0,0,0]\n",
    "bleu_avg = 0\n",
    "for i in range(len(reference)):\n",
    "    refs = reference[i]\n",
    "    cands = candidate[i]\n",
    "    bleu_avg += sentence_bleu([refs], cands)\n",
    "    for j in range(4):\n",
    "        bleu[j] += sentence_bleu([refs], cands, weights=np.eye(4)[j])"
   ]
  },
  {
   "cell_type": "code",
   "execution_count": 15,
   "metadata": {
    "ExecuteTime": {
     "end_time": "2019-12-26T05:46:15.678399Z",
     "start_time": "2019-12-26T05:46:15.668907Z"
    },
    "scrolled": true
   },
   "outputs": [
    {
     "name": "stdout",
     "output_type": "stream",
     "text": [
      "Bleu 1,2,3,4 [0.33200445 0.13175138 0.0291518  0.00657494]\n",
      "Bleu avg 0.02261160878839482\n"
     ]
    }
   ],
   "source": [
    "print('Bleu 1,2,3,4', np.array(bleu)/len(reference))\n",
    "print('Bleu avg', bleu_avg/len(reference))"
   ]
  },
  {
   "cell_type": "code",
   "execution_count": 19,
   "metadata": {
    "ExecuteTime": {
     "end_time": "2019-12-26T05:58:55.918893Z",
     "start_time": "2019-12-26T05:58:55.911709Z"
    }
   },
   "outputs": [
    {
     "name": "stdout",
     "output_type": "stream",
     "text": [
      "Bleu 1,2,3,4 [0.40001659 0.17360862 0.0594561  0.01988397]\n",
      "Bleu avg 8.248082967892735e-06\n"
     ]
    }
   ],
   "source": [
    "print('Bleu 1,2,3,4', np.array(bleu)/len(reference))\n",
    "print('Bleu avg', bleu_avg/len(reference))"
   ]
  },
  {
   "cell_type": "code",
   "execution_count": 20,
   "metadata": {
    "ExecuteTime": {
     "end_time": "2019-12-26T05:59:24.266554Z",
     "start_time": "2019-12-26T05:59:24.261276Z"
    }
   },
   "outputs": [
    {
     "data": {
      "text/plain": [
       "0.06361746393135667"
      ]
     },
     "execution_count": 20,
     "metadata": {},
     "output_type": "execute_result"
    }
   ],
   "source": [
    "bleu_avg"
   ]
  },
  {
   "cell_type": "markdown",
   "metadata": {},
   "source": [
    "# 预处理测试集数据"
   ]
  },
  {
   "cell_type": "code",
   "execution_count": 50,
   "metadata": {
    "ExecuteTime": {
     "end_time": "2019-12-23T00:37:18.600221Z",
     "start_time": "2019-12-23T00:37:18.022764Z"
    }
   },
   "outputs": [],
   "source": [
    "path_list = [\n",
    "    './data/new_roc_data_v3/weight_data/p1lm_new_roc_data_v3/storylines_20.txt',\n",
    "    './data/new_roc_data_v3/weight_data/p1lm_new_roc_data_v3/storylines_50.txt',\n",
    "    './data/new_roc_data_v3/weight_data/p1lm_new_roc_data_v3/storylines_80.txt',\n",
    "]\n",
    "\n",
    "for path in path_list:\n",
    "    with open(path, 'rt') as f:\n",
    "        lines = f.readlines()\n",
    "    outlines = []\n",
    "    for line in lines:\n",
    "        title = line[:line.find('<EOT>')+5].strip()+' </s>'\n",
    "        storyline = ' '.join(line[line.find('<EOT>')+11:line.find('<EOL>')].strip().split(' </l> '))+' <EOL> </s>'\n",
    "        outlines.append(title+' '+storyline)\n",
    "    with open(path+'.processed', 'wt') as f:\n",
    "        f.writelines('\\t None\\n'.join(outlines))"
   ]
  },
  {
   "cell_type": "markdown",
   "metadata": {},
   "source": [
    "# 故事挑选"
   ]
  },
  {
   "cell_type": "code",
   "execution_count": 53,
   "metadata": {
    "ExecuteTime": {
     "end_time": "2019-12-24T04:52:03.720981Z",
     "start_time": "2019-12-24T04:52:03.715528Z"
    }
   },
   "outputs": [],
   "source": [
    "filepath = './data/new_roc_data_v3/weight_data/p1lm_new_roc_data_v3/test-generatestoryline.norankloss.out'\n",
    "with open(filepath, 'rt') as f:\n",
    "    lines = f.readlines()"
   ]
  },
  {
   "cell_type": "code",
   "execution_count": 55,
   "metadata": {
    "ExecuteTime": {
     "end_time": "2019-12-24T04:52:17.354934Z",
     "start_time": "2019-12-24T04:52:17.352082Z"
    }
   },
   "outputs": [],
   "source": [
    "i = 0"
   ]
  },
  {
   "cell_type": "code",
   "execution_count": 56,
   "metadata": {
    "ExecuteTime": {
     "end_time": "2019-12-24T04:52:44.613849Z",
     "start_time": "2019-12-24T04:52:44.607820Z"
    },
    "scrolled": true
   },
   "outputs": [
    {
     "data": {
      "text/plain": [
       "'snow angel <eot> </s> took trip got car drove road started rain whole time <eol> </s>***\\tgina drove home from her car . </s> she got out of snow . </s> it started to rain . </s> she ran into the car . </s> she had an hour . </s>***\\tthe man went to the car . </s> he was driving on the road . </s> he got a car . </s> he took the car to the car . </s> the car was broken . </s>\\n'"
      ]
     },
     "execution_count": 56,
     "metadata": {},
     "output_type": "execute_result"
    }
   ],
   "source": [
    "lines[i]"
   ]
  },
  {
   "cell_type": "code",
   "execution_count": 66,
   "metadata": {
    "ExecuteTime": {
     "end_time": "2019-12-24T05:04:45.824189Z",
     "start_time": "2019-12-24T05:04:45.810728Z"
    }
   },
   "outputs": [
    {
     "name": "stdout",
     "output_type": "stream",
     "text": [
      "baby brother <eot> </s> new baby named twins have children gave birth happy family <eol> </s>***\n",
      "---------------------------------Mixture Model----------------------------------\n",
      "mary 's baby was born with twins .\n",
      "she wanted to babysit her baby .\n",
      "when she got home , she found a baby .\n",
      "the baby gave birth .\n",
      "sarah had to adopt a baby .\n",
      "---------------------------------------LM---------------------------------------\n",
      "anna was having a baby .\n",
      "she was pregnant .\n",
      "she had a baby baby .\n",
      "she had a baby .\n",
      "she had a baby baby .\n"
     ]
    }
   ],
   "source": [
    "line = lines[i]\n",
    "title_storyline = line.split('\\t')[0]\n",
    "mix_story = [_.strip() for _ in line.split('\\t')[1].split('</s>')[:5]]\n",
    "lm_story = [_.strip() for _ in line.split('\\t')[2].split('</s>')[:5]]\n",
    "print(title_storyline)\n",
    "print('{:-^80}'.format('Mixture Model'))\n",
    "for _ in mix_story:\n",
    "    print(_)\n",
    "print('{:-^80}'.format('LM'))\n",
    "for _ in lm_story:\n",
    "    print(_)\n",
    "i = np.random.randint(len(lines))"
   ]
  }
 ],
 "metadata": {
  "kernelspec": {
   "display_name": "Python 3",
   "language": "python",
   "name": "python3"
  },
  "language_info": {
   "codemirror_mode": {
    "name": "ipython",
    "version": 3
   },
   "file_extension": ".py",
   "mimetype": "text/x-python",
   "name": "python",
   "nbconvert_exporter": "python",
   "pygments_lexer": "ipython3",
   "version": "3.6.9"
  },
  "toc": {
   "base_numbering": 1,
   "nav_menu": {},
   "number_sections": true,
   "sideBar": true,
   "skip_h1_title": false,
   "title_cell": "Table of Contents",
   "title_sidebar": "Contents",
   "toc_cell": false,
   "toc_position": {},
   "toc_section_display": true,
   "toc_window_display": false
  },
  "varInspector": {
   "cols": {
    "lenName": 16,
    "lenType": 16,
    "lenVar": 40
   },
   "kernels_config": {
    "python": {
     "delete_cmd_postfix": "",
     "delete_cmd_prefix": "del ",
     "library": "var_list.py",
     "varRefreshCmd": "print(var_dic_list())"
    },
    "r": {
     "delete_cmd_postfix": ") ",
     "delete_cmd_prefix": "rm(",
     "library": "var_list.r",
     "varRefreshCmd": "cat(var_dic_list()) "
    }
   },
   "types_to_exclude": [
    "module",
    "function",
    "builtin_function_or_method",
    "instance",
    "_Feature"
   ],
   "window_display": false
  }
 },
 "nbformat": 4,
 "nbformat_minor": 2
}
